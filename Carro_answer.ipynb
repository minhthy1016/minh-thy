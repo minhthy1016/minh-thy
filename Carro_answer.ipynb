{
 "cells": [
  {
   "cell_type": "code",
   "execution_count": 2,
   "metadata": {},
   "outputs": [
    {
     "name": "stdout",
     "output_type": "stream",
     "text": [
      "    id        student_name  received_votes\n",
      "0    1         Ashley Reid               2\n",
      "1    2     Scott Donaldson               3\n",
      "2    3           Lisa Tate               1\n",
      "3    4       Austin Nelson               3\n",
      "4    5        Kurt Gregory               1\n",
      "5    6     Kimberly Guzman               3\n",
      "6    7     Michael Charles               3\n",
      "7    8      Matthew Turner               2\n",
      "8    9        Leslie Weiss               1\n",
      "9   10           Jose Mata               1\n",
      "10  11          Marc Evans               3\n",
      "11  12         Ivan Cannon               2\n",
      "12  13     Robert Buchanan               1\n",
      "13  14        Cameron King               1\n",
      "14  15  Samantha Blackwell               2\n",
      "15  16        David Hudson               1\n",
      "16  17   Curtis Williamson               1\n",
      "17  18        Sheri Franco               3\n",
      "18  19      Kimberly Jones               2\n",
      "19  20        Keith Becker               4\n"
     ]
    }
   ],
   "source": [
    "import pandas as pd\n",
    "\n",
    "df_student_id = pd.read_csv('Students.csv')\n",
    "df_student_id['received_votes'] = 0\n",
    "\n",
    "df_polls = pd.read_csv('Polls_1.csv')\n",
    "df_polls.drop(columns=['vote_1,vote_2'], inplace=True)\n",
    "\n",
    "# loop through total votes for each students in vote_1, vote_2 (value_counts method)\n",
    "for student_id, total_votes in list(df_polls['vote_1'].value_counts().items()) + list(df_polls['vote_2'].value_counts().items()):\n",
    "    updated_index = df_student_id[df_student_id['id'] == student_id].index.values[0]\n",
    "\n",
    "    df_student_id.at[updated_index, 'received_votes'] += total_votes\n",
    "\n",
    "print(df_student_id)\n",
    "#print(\"{} is the winner with a total of {} votes\".format(student_id,total_votes))\n",
    "\n"
   ]
  },
  {
   "cell_type": "code",
   "execution_count": 5,
   "metadata": {},
   "outputs": [
    {
     "name": "stdout",
     "output_type": "stream",
     "text": [
      "id                          20\n",
      "student_name      Keith Becker\n",
      "received_votes               4\n",
      "Name: 19, dtype: object\n"
     ]
    }
   ],
   "source": [
    "max_index = df_student_id['received_votes'].idxmax()\n",
    "\n",
    "print(df_student_id.iloc[max_index])"
   ]
  },
  {
   "cell_type": "code",
   "execution_count": null,
   "metadata": {},
   "outputs": [],
   "source": []
  }
 ],
 "metadata": {
  "kernelspec": {
   "display_name": "Python 3",
   "language": "python",
   "name": "python3"
  },
  "language_info": {
   "codemirror_mode": {
    "name": "ipython",
    "version": 3
   },
   "file_extension": ".py",
   "mimetype": "text/x-python",
   "name": "python",
   "nbconvert_exporter": "python",
   "pygments_lexer": "ipython3",
   "version": "3.7.4"
  }
 },
 "nbformat": 4,
 "nbformat_minor": 4
}
